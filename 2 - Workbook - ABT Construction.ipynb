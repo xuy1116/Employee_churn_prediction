{
 "cells": [
  {
   "cell_type": "markdown",
   "metadata": {},
   "source": [
    "# ABT Construction\n"
   ]
  },
  {
   "cell_type": "markdown",
   "metadata": {},
   "source": [
    "#### First, let's import libraries we'll need for data cleaning and feature engineering.\n",
    "\n",
    "In general, it's good practice to keep all of your library imports at the top of your notebook or program. **Tip:** If you forget one, you can always add it here later and re-run this code block.\n",
    "\n",
    "We've provided comments for guidance."
   ]
  },
  {
   "cell_type": "code",
   "execution_count": 142,
   "metadata": {},
   "outputs": [],
   "source": [
    "# NumPy for numerical computing\n",
    "import numpy as np\n",
    "\n",
    "# Pandas for DataFrames\n",
    "import pandas as pd\n",
    "pd.set_option('display.max_columns', 100)\n",
    "\n",
    "# Matplotlib for visualization\n",
    "from matplotlib import pyplot as plt\n",
    "# display plots in the notebook\n",
    "%matplotlib inline \n",
    "\n",
    "# Seaborn for easier visualization\n",
    "import seaborn as sns\n",
    "sns.set_style('darkgrid')\n",
    "\n",
    "# (Optional) Suppress FutureWarning\n",
    "import warnings\n",
    "warnings.simplefilter(action='ignore', category=FutureWarning)"
   ]
  },
  {
   "cell_type": "markdown",
   "metadata": {},
   "source": [
    "#### Next, read in the dataset.\n",
    "* The file name is <code style=\"color:crimson\">'employee_data.csv'</code>"
   ]
  },
  {
   "cell_type": "code",
   "execution_count": 144,
   "metadata": {},
   "outputs": [
    {
     "name": "stdout",
     "output_type": "stream",
     "text": [
      "(14249, 10)\n"
     ]
    },
    {
     "data": {
      "text/html": [
       "<div>\n",
       "<style scoped>\n",
       "    .dataframe tbody tr th:only-of-type {\n",
       "        vertical-align: middle;\n",
       "    }\n",
       "\n",
       "    .dataframe tbody tr th {\n",
       "        vertical-align: top;\n",
       "    }\n",
       "\n",
       "    .dataframe thead th {\n",
       "        text-align: right;\n",
       "    }\n",
       "</style>\n",
       "<table border=\"1\" class=\"dataframe\">\n",
       "  <thead>\n",
       "    <tr style=\"text-align: right;\">\n",
       "      <th></th>\n",
       "      <th>avg_monthly_hrs</th>\n",
       "      <th>department</th>\n",
       "      <th>filed_complaint</th>\n",
       "      <th>last_evaluation</th>\n",
       "      <th>n_projects</th>\n",
       "      <th>recently_promoted</th>\n",
       "      <th>salary</th>\n",
       "      <th>satisfaction</th>\n",
       "      <th>status</th>\n",
       "      <th>tenure</th>\n",
       "    </tr>\n",
       "  </thead>\n",
       "  <tbody>\n",
       "    <tr>\n",
       "      <th>0</th>\n",
       "      <td>221</td>\n",
       "      <td>engineering</td>\n",
       "      <td>NaN</td>\n",
       "      <td>0.932868</td>\n",
       "      <td>4</td>\n",
       "      <td>NaN</td>\n",
       "      <td>low</td>\n",
       "      <td>0.829896</td>\n",
       "      <td>Left</td>\n",
       "      <td>5.0</td>\n",
       "    </tr>\n",
       "    <tr>\n",
       "      <th>1</th>\n",
       "      <td>232</td>\n",
       "      <td>support</td>\n",
       "      <td>NaN</td>\n",
       "      <td>NaN</td>\n",
       "      <td>3</td>\n",
       "      <td>NaN</td>\n",
       "      <td>low</td>\n",
       "      <td>0.834544</td>\n",
       "      <td>Employed</td>\n",
       "      <td>2.0</td>\n",
       "    </tr>\n",
       "    <tr>\n",
       "      <th>2</th>\n",
       "      <td>184</td>\n",
       "      <td>sales</td>\n",
       "      <td>NaN</td>\n",
       "      <td>0.788830</td>\n",
       "      <td>3</td>\n",
       "      <td>NaN</td>\n",
       "      <td>medium</td>\n",
       "      <td>0.834988</td>\n",
       "      <td>Employed</td>\n",
       "      <td>3.0</td>\n",
       "    </tr>\n",
       "    <tr>\n",
       "      <th>3</th>\n",
       "      <td>206</td>\n",
       "      <td>sales</td>\n",
       "      <td>NaN</td>\n",
       "      <td>0.575688</td>\n",
       "      <td>4</td>\n",
       "      <td>NaN</td>\n",
       "      <td>low</td>\n",
       "      <td>0.424764</td>\n",
       "      <td>Employed</td>\n",
       "      <td>2.0</td>\n",
       "    </tr>\n",
       "    <tr>\n",
       "      <th>4</th>\n",
       "      <td>249</td>\n",
       "      <td>sales</td>\n",
       "      <td>NaN</td>\n",
       "      <td>0.845217</td>\n",
       "      <td>3</td>\n",
       "      <td>NaN</td>\n",
       "      <td>low</td>\n",
       "      <td>0.779043</td>\n",
       "      <td>Employed</td>\n",
       "      <td>3.0</td>\n",
       "    </tr>\n",
       "  </tbody>\n",
       "</table>\n",
       "</div>"
      ],
      "text/plain": [
       "   avg_monthly_hrs   department  filed_complaint  last_evaluation  n_projects  \\\n",
       "0              221  engineering              NaN         0.932868           4   \n",
       "1              232      support              NaN              NaN           3   \n",
       "2              184        sales              NaN         0.788830           3   \n",
       "3              206        sales              NaN         0.575688           4   \n",
       "4              249        sales              NaN         0.845217           3   \n",
       "\n",
       "   recently_promoted  salary  satisfaction    status  tenure  \n",
       "0                NaN     low      0.829896      Left     5.0  \n",
       "1                NaN     low      0.834544  Employed     2.0  \n",
       "2                NaN  medium      0.834988  Employed     3.0  \n",
       "3                NaN     low      0.424764  Employed     2.0  \n",
       "4                NaN     low      0.779043  Employed     3.0  "
      ]
     },
     "execution_count": 144,
     "metadata": {},
     "output_type": "execute_result"
    }
   ],
   "source": [
    "df = pd.read_csv('employee_data.csv')\n",
    "print(df.shape)\n",
    "df.head()"
   ]
  },
  {
   "cell_type": "markdown",
   "metadata": {},
   "source": [
    "## Drop Unwanted Observations</span>\n",
    "\n",
    "The first step to data cleaning is removing samples from your dataset that you don't want to include in the model.\n",
    "\n",
    "#### A.) First, <span style=\"color:royalblue\">drop duplicates</span> from the dataset.\n",
    "* Then, print the shape of the new dataframe."
   ]
  },
  {
   "cell_type": "code",
   "execution_count": 146,
   "metadata": {
    "scrolled": true
   },
   "outputs": [
    {
     "data": {
      "text/plain": [
       "(14221, 10)"
      ]
     },
     "execution_count": 146,
     "metadata": {},
     "output_type": "execute_result"
    }
   ],
   "source": [
    "df=df.drop_duplicates()\n",
    "df.shape"
   ]
  },
  {
   "cell_type": "markdown",
   "metadata": {},
   "source": [
    "Did we have any duplicates in the dataset? (Did the number of observations decrease after calling the drop duplicates function?)\n"
   ]
  },
  {
   "cell_type": "markdown",
   "metadata": {},
   "source": [
    "Next, let's drop any observations that are irrelevant to what we're trying to model. If you remember from the previous module, we saw that we have temp workers (based on the <code style=\"color:steelblue\">'department'</code> feature). However, based on our **project scope**, we don't want to model temp workers. Let's just double-check.\n",
    "\n",
    "#### B.) Display all of the unique classes of the <code style=\"color:steelblue\">'department'</code> feature."
   ]
  },
  {
   "cell_type": "code",
   "execution_count": 149,
   "metadata": {},
   "outputs": [
    {
     "data": {
      "text/plain": [
       "array(['engineering', 'support', 'sales', 'IT', 'product', 'marketing',\n",
       "       'temp', 'procurement', 'finance', nan, 'management',\n",
       "       'information_technology', 'admin'], dtype=object)"
      ]
     },
     "execution_count": 149,
     "metadata": {},
     "output_type": "execute_result"
    }
   ],
   "source": [
    "df.department.unique()"
   ]
  },
  {
   "cell_type": "markdown",
   "metadata": {},
   "source": [
    "Ignoring the <span style=\"color:crimson\">nan</span> for now, we can see that <span style=\"color:crimson\">'temp'</span> shouldn't belong in this dataset! After all, based on the project scope, we're only trying to build a model for **permanent, full time employees**. Therefore, we should remove observations that belong to the <span style=\"color:crimson\">'temp'</span> department. We don't want to risk them throwing off our model.\n",
    "\n",
    "#### C.) Drop all observations that belong to the <span style=\"color:crimson\">'temp'</span> department.\n"
   ]
  },
  {
   "cell_type": "code",
   "execution_count": 151,
   "metadata": {
    "scrolled": true
   },
   "outputs": [
    {
     "data": {
      "text/plain": [
       "(14068, 10)"
      ]
     },
     "execution_count": 151,
     "metadata": {},
     "output_type": "execute_result"
    }
   ],
   "source": [
    "df.drop(df[df.department=='temp'].index, inplace=True)\n",
    "df.shape"
   ]
  },
  {
   "cell_type": "markdown",
   "metadata": {},
   "source": [
    "## Fix Structural Errors</span>\n",
    "\n",
    "The next bucket under data cleaning involves fixing structural errors, which arise during measurement, data transfer, or other types of \"poor housekeeping.\"\n",
    "\n",
    "First, let's handle any features that should be **indicator variables**. Remember, these are variables that **should** be either <code style=\"color:crimson\">0</code> or <code style=\"color:crimson\">1</code>. However, maybe they were saved under different logic.\n",
    "\n",
    "For example, remember the <code style=\"color:steelblue\">'filed_complaint'</code> and <code style=\"color:steelblue\">'recently_promoted'</code> features? They only had values of <code style=\"color:crimson\">1</code> and <code style=\"color:crimson\">NaN</code>.\n",
    "\n",
    "#### A.) Print the unique values of <code style=\"color:steelblue\">'filed_complaint'</code> and <code style=\"color:steelblue\">'recently_promoted'</code>."
   ]
  },
  {
   "cell_type": "code",
   "execution_count": 153,
   "metadata": {},
   "outputs": [
    {
     "name": "stdout",
     "output_type": "stream",
     "text": [
      "[nan  1.]\n",
      "[nan  1.]\n"
     ]
    }
   ],
   "source": [
    "print(df.filed_complaint.unique())\n",
    "print(df.recently_promoted.unique())"
   ]
  },
  {
   "cell_type": "markdown",
   "metadata": {},
   "source": [
    "Even though the <code style=\"color:crimson\">NaN</code> values are \"missing,\" they actually indicate employees who have not filed complaints or those who have not been recently promoted. Therefore, we should fill them in with the value <code style=\"color:crimson\">0</code>, which will turn them into true indicator variables."
   ]
  },
  {
   "cell_type": "markdown",
   "metadata": {},
   "source": [
    "#### B.) Fill missing <code style=\"color:steelblue\">'filed_complaint'</code> and <code style=\"color:steelblue\">'recently_promoted'</code> values with <code style=\"color:crimson\">0</code>."
   ]
  },
  {
   "cell_type": "code",
   "execution_count": 156,
   "metadata": {},
   "outputs": [],
   "source": [
    "df.filed_complaint.fillna(0, inplace=True)\n",
    "df.recently_promoted.fillna(0, inplace=True)"
   ]
  },
  {
   "cell_type": "markdown",
   "metadata": {},
   "source": [
    "Now the \"missing\" values have been filled, and we have true indicator variables.\n",
    "\n",
    "#### C.) Print the unique values of <code style=\"color:steelblue\">'filed_complaint'</code> and <code style=\"color:steelblue\">'recently_promoted'</code> again, just as a quick sanity check."
   ]
  },
  {
   "cell_type": "code",
   "execution_count": 158,
   "metadata": {},
   "outputs": [
    {
     "name": "stdout",
     "output_type": "stream",
     "text": [
      "[0. 1.]\n",
      "[0. 1.]\n"
     ]
    }
   ],
   "source": [
    "print(df.filed_complaint.unique())\n",
    "print(df.recently_promoted.unique())"
   ]
  },
  {
   "cell_type": "markdown",
   "metadata": {},
   "source": [
    "Next, let's check for **typos**, **inconsistent capitalization**, or **mislabeled classes**. For example, if you remember from the previous module, we checked the class distributions for <code style=\"color:steelblue\">'department'</code> and found out that <code style=\"color:crimson\">'IT'</code> and <code style=\"color:crimson\">'information_technology'</code> as labeled as separate classes when they really refer to the same department. Let's fix that.\n",
    "\n",
    "#### D.) Replace any instances of <code style=\"color:crimson\">'information_technology'</code> with <code style=\"color:crimson\">'IT'</code> instead.\n",
    "* Remember to do it **inplace**.\n",
    "* Then, plot the **bar chart** for <code style=\"color:steelblue\">'department'</code> to see its new distribution."
   ]
  },
  {
   "cell_type": "code",
   "execution_count": 160,
   "metadata": {},
   "outputs": [
    {
     "data": {
      "text/plain": [
       "<Axes: xlabel='Count', ylabel='department'>"
      ]
     },
     "execution_count": 160,
     "metadata": {},
     "output_type": "execute_result"
    },
    {
     "data": {
      "image/png": "[encoded data removed]",
      "text/plain": [
       "<Figure size 640x480 with 1 Axes>"
      ]
     },
     "metadata": {},
     "output_type": "display_data"
    }
   ],
   "source": [
    "df['department'].replace('information_technology','IT', inplace=True)\n",
    "sns.histplot(y=df.department)"
   ]
  },
  {
   "cell_type": "markdown",
   "metadata": {},
   "source": [
    "Finally, let's consider if we need to remove any **unwanted outliers**. Well, here's another place where Exploratory Analysis helps us out a lot. We've already plotted the distributions for all of our features. \n",
    "\n",
    "And in this case, a simple eye-test is enough to tell us that it doesn't look like outliers will be a huge problem. Plus, because outliers are **innocent until proven guilty**, we don't have to spend too much time trying to chase them down. Let's check this off and move on to handling missing data."
   ]
  },
  {
   "cell_type": "markdown",
   "metadata": {},
   "source": [
    "## Handle Missing Data</span>\n",
    "\n",
    "Next, it's time to handle **missing data**. Remember, the 2 most commonly recommended ways of dealing with missing data (dropping observations or imputing them) actually suck. Missing data is like missing a puzzle piece. If you drop it, that's like pretending the missing puzzle piece isn't there. If you impute it, that's like trying to squeeze in a piece from somewhere else in the puzzle.\n",
    "\n",
    "Instead, we're going to be labeling missing values so our algorithm knows they were originally missing.\n",
    "\n",
    "#### A.) First, let's pinpoint the missing data. Display the <span style=\"color:royalblue\">number of missing values</span> for each feature (both categorical and numeric)."
   ]
  },
  {
   "cell_type": "code",
   "execution_count": 163,
   "metadata": {},
   "outputs": [
    {
     "data": {
      "text/plain": [
       "avg_monthly_hrs         0\n",
       "department            709\n",
       "filed_complaint         0\n",
       "last_evaluation      1351\n",
       "n_projects              0\n",
       "recently_promoted       0\n",
       "salary                  0\n",
       "satisfaction            0\n",
       "status                  0\n",
       "tenure                  0\n",
       "dtype: int64"
      ]
     },
     "execution_count": 163,
     "metadata": {},
     "output_type": "execute_result"
    }
   ],
   "source": [
    "df.isnull().sum()"
   ]
  },
  {
   "cell_type": "markdown",
   "metadata": {},
   "source": [
    "**Note:** If you've been paying very close attention, you'll notice that in the previous module, <code>'satisfaction'</code> and <code>'tenure'</code> appeared to have missing values as well. As it turns out, those missing values belonged to temp workers, so we now have complete data for those two features after dropping temp workers from the dataset."
   ]
  },
  {
   "cell_type": "markdown",
   "metadata": {},
   "source": [
    "It looks like we have 1 categorical feature with missing data (<code style=\"color:steelblue\">'department'</code>) and one numeric feature (<code style=\"color:steelblue\">'last_evaluation'</code>). No problem. Remember, for categorical features, the strategy for dealing with them is **labeling them as missing**.\n",
    "\n",
    "#### B.) Label missing values in <code style=\"color:steelblue\">'department'</code> as <code style=\"color:crimson\">'Missing'</code>."
   ]
  },
  {
   "cell_type": "code",
   "execution_count": 166,
   "metadata": {},
   "outputs": [],
   "source": [
    "df.department.fillna('Missing', inplace=True)"
   ]
  },
  {
   "cell_type": "markdown",
   "metadata": {},
   "source": [
    "Next, let's **flag and fill** missing numerical features.\n",
    "\n",
    "#### C.) First, let's flag <code style=\"color:steelblue\">'last_evaluation'</code> with an indicator variable of missingness.\n",
    "* <code style=\"color:crimson\">0</code> if not missing.\n",
    "* <code style=\"color:crimson\">1</code> if missing. \n",
    "\n",
    "Let's name the new indicator variable <code style=\"color:steelblue\">'last_evaluation_missing'</code>.\n",
    "* We can use the <code style=\"color:steelblue\">.isnull()</code> function.\n",
    "* Also, remember to convert it with <code style=\"color:steelblue\">.astype(int)</code>"
   ]
  },
  {
   "cell_type": "code",
   "execution_count": 168,
   "metadata": {},
   "outputs": [],
   "source": [
    "df['last_evaluation_missing']=df['last_evaluation'].isnull().astype(int)"
   ]
  },
  {
   "cell_type": "markdown",
   "metadata": {},
   "source": [
    "#### D.) Then, simply fill in the original missing value with <code style=\"color:crimson\">0</code> just so your algorithms can run properly."
   ]
  },
  {
   "cell_type": "code",
   "execution_count": 170,
   "metadata": {},
   "outputs": [],
   "source": [
    "df['last_evaluation'].fillna(0, inplace=True)"
   ]
  },
  {
   "cell_type": "markdown",
   "metadata": {},
   "source": [
    "Remember, by using this technique of flagging and filling, you are essentially **allowing the algorithm to estimate the optimal constant for missingness**, instead of just filling it in with the mean.\n",
    "\n",
    "Now, our dataset should no longer have missing values.\n",
    "\n",
    "#### E.) Display the number of missing values for each feature (both categorical and numeric) again, just to confirm."
   ]
  },
  {
   "cell_type": "code",
   "execution_count": 172,
   "metadata": {},
   "outputs": [
    {
     "data": {
      "text/plain": [
       "avg_monthly_hrs            0\n",
       "department                 0\n",
       "filed_complaint            0\n",
       "last_evaluation            0\n",
       "n_projects                 0\n",
       "recently_promoted          0\n",
       "salary                     0\n",
       "satisfaction               0\n",
       "status                     0\n",
       "tenure                     0\n",
       "last_evaluation_missing    0\n",
       "dtype: int64"
      ]
     },
     "execution_count": 172,
     "metadata": {},
     "output_type": "execute_result"
    }
   ],
   "source": [
    "df.isnull().sum()"
   ]
  },
  {
   "cell_type": "markdown",
   "metadata": {},
   "source": [
    "## Engineer Features</span>\n",
    "\n",
    "For this project, we're going to have an abbreviated version of feature engineering, since we've already covered many tactics in the previous project. Plus, since our dataset is larger, we don't really suffer from sparse classes as much. Instead, for this project, we want to highlight an elegant way good exploratory analysis translates to better feature engineering.\n",
    "\n",
    "You see, we won't always have a lot of **domain knowledge** for the problem. In these situations, we should rely on exploratory analysis to provide us hints (a.k.a. \"aha moments\").\n",
    "\n",
    "Do you remember the scatterplot of <code style=\"color:steelblue\">'satisfaction'</code> and <code style=\"color:steelblue\">'last_evaluation'</code> for employees who have <code style=\"color:crimson\">'Left'</code>?\n",
    "\n",
    "#### A.) Let's reproduce it here, just so we have it in front of us."
   ]
  },
  {
   "cell_type": "code",
   "execution_count": 174,
   "metadata": {},
   "outputs": [
    {
     "data": {
      "text/plain": [
       "<seaborn.axisgrid.FacetGrid at 0x22626d631a0>"
      ]
     },
     "execution_count": 174,
     "metadata": {},
     "output_type": "execute_result"
    },
    {
     "data": {
      "image/png": "[encoded data removed]",
      "text/plain": [
       "<Figure size 500x500 with 1 Axes>"
      ]
     },
     "metadata": {},
     "output_type": "display_data"
    }
   ],
   "source": [
    "sns.lmplot(x='satisfaction',y='last_evaluation', data=df[df.status=='Left'], fit_reg=False)"
   ]
  },
  {
   "cell_type": "markdown",
   "metadata": {},
   "source": [
    "Ah, that looks different from the one in the previous module! \n",
    "* Oh yes, it's because we just **flagged and filled** missing values for <code style=\"color:steelblue\">'last_evaluation'</code> with 0.\n",
    "* No problem, but let's ignore those observations for now and focus on the top half of the plot.\n",
    "\n",
    "Based on the top half, it looks like there are 3 clusters of people who left.\n",
    "1. First, we have people with high <code style=\"color:steelblue\">'last_evaluation'</code> but low <code style=\"color:steelblue\">'satisfaction'</code>. Maybe these people were overqualified, frustrated, or **unhappy** in some other way.\n",
    "2. Next, we have people with low <code style=\"color:steelblue\">'last_evaluation'</code> and medium <code style=\"color:steelblue\">'satisfaction'</code>. These were probably **underperformers** or poor cultural fits.\n",
    "3. Finally, we have people with high <code style=\"color:steelblue\">'last_evaluation'</code> and high <code style=\"color:steelblue\">'satisfaction'</code>. Perhaps these were **overachievers** who found better offers elsewhere.\n",
    "\n",
    "These roughly translate to 3 **indicator features** we can engineer:\n",
    "\n",
    "* <code style=\"color:steelblue\">'underperformer'</code> - last_evaluation < 0.6 and last_evaluation_missing == 0\n",
    "* <code style=\"color:steelblue\">'unhappy'</code> - satisfaction_level < 0.2\n",
    "* <code style=\"color:steelblue\">'overachiever'</code> - last_evaluation > 0.8 and satisfaction > 0.7\n",
    "\n",
    "\n",
    "#### B.) Create those 3 indicator features.\n",
    "* Use boolean masks.\n",
    "* **Important:** For <code style=\"color:steelblue\">'underperformer'</code>, it's important to include <code style=\"color:steelblue\">'last_evaluation_missing' == 0</code> to avoid those originally missing observations that we flagged and filled."
   ]
  },
  {
   "cell_type": "code",
   "execution_count": 176,
   "metadata": {},
   "outputs": [],
   "source": [
    "df['underperformer']=((df['last_evaluation']<0.6) & (df['last_evaluation_missing']==0)).astype(int)\n",
    "df['unhappy']=(df['satisfaction']<0.2).astype(int)\n",
    "df['overachiever']=((df['last_evaluation']>0.8) & (df['satisfaction']>0.7)).astype(int)"
   ]
  },
  {
   "cell_type": "markdown",
   "metadata": {},
   "source": [
    "#### C.) Finally, check that you created the features correctly. Display the proportion of employees from the dataset that fall into each of those 3 categories."
   ]
  },
  {
   "cell_type": "code",
   "execution_count": 178,
   "metadata": {},
   "outputs": [
    {
     "data": {
      "text/plain": [
       "underperformer    0.285257\n",
       "unhappy           0.092195\n",
       "overachiever      0.177069\n",
       "dtype: float64"
      ]
     },
     "execution_count": 178,
     "metadata": {},
     "output_type": "execute_result"
    }
   ],
   "source": [
    "df[['underperformer', 'unhappy', 'overachiever']].mean()"
   ]
  },
  {
   "cell_type": "markdown",
   "metadata": {},
   "source": [
    "## Save the ABT</span>\n",
    "\n",
    "Finally, let's save the **analytical base table**. But before we do, we need to take care of 2 things.\n",
    "1. First, we need to convert our target variable into an indicator variable.\n",
    "2. Second, we need to convert other categorical features into dummy variables.\n",
    "\n",
    "Scikit-Learn expects the target variable to be **numeric**. And since we only have 2 classes (<code style=\"color:crimson\">'Left'</code> and <code style=\"color:crimson\">'Employed'</code>), we can convert it into an indicator variable.\n",
    "\n",
    "#### A.) Convert <code style=\"color:steelblue\">'status'</code> into an indicator variable.\n",
    "* <code style=\"color:crimson\">'Left'</code> should be <code style=\"color:crimson\">1</code>\n",
    "* <code style=\"color:crimson\">'Employed'</code> should be <code style=\"color:crimson\">0</code>\n",
    "* **Tip:** There's also a really easy way you can use <code style=\"color:steelblue\">pd.get_dummies()</code> here. Try to see if you can discover it through trial-and-error and/or looking at the documentation. Otherwise, you can check the answer key."
   ]
  },
  {
   "cell_type": "code",
   "execution_count": 180,
   "metadata": {},
   "outputs": [],
   "source": [
    "df['status']=pd.get_dummies(df['status'])['Left'].astype(int)"
   ]
  },
  {
   "cell_type": "markdown",
   "metadata": {},
   "source": [
    "#### B.) To confirm we did that correctly, display the proportion of people in our dataset who left."
   ]
  },
  {
   "cell_type": "code",
   "execution_count": 182,
   "metadata": {},
   "outputs": [
    {
     "data": {
      "text/plain": [
       "0.23933750355416547"
      ]
     },
     "execution_count": 182,
     "metadata": {},
     "output_type": "execute_result"
    }
   ],
   "source": [
    "df['status'].mean()"
   ]
  },
  {
   "cell_type": "markdown",
   "metadata": {},
   "source": [
    "Next, let's create dummy variables for the other categorical features.\n",
    "\n",
    "#### C.) Overwrite your dataframe with a version that has <span style=\"color:royalblue\">dummy variables</span> for the categorical features.\n",
    "* Then, display the first 10 rows to confirm all of the changes we've made so far in this module."
   ]
  },
  {
   "cell_type": "code",
   "execution_count": 184,
   "metadata": {},
   "outputs": [
    {
     "name": "stdout",
     "output_type": "stream",
     "text": [
      "<class 'pandas.core.frame.DataFrame'>\n",
      "Index: 14068 entries, 0 to 14248\n",
      "Data columns (total 14 columns):\n",
      " #   Column                   Non-Null Count  Dtype  \n",
      "---  ------                   --------------  -----  \n",
      " 0   avg_monthly_hrs          14068 non-null  int64  \n",
      " 1   department               14068 non-null  object \n",
      " 2   filed_complaint          14068 non-null  float64\n",
      " 3   last_evaluation          14068 non-null  float64\n",
      " 4   n_projects               14068 non-null  int64  \n",
      " 5   recently_promoted        14068 non-null  float64\n",
      " 6   salary                   14068 non-null  object \n",
      " 7   satisfaction             14068 non-null  float64\n",
      " 8   status                   14068 non-null  int32  \n",
      " 9   tenure                   14068 non-null  float64\n",
      " 10  last_evaluation_missing  14068 non-null  int32  \n",
      " 11  underperformer           14068 non-null  int32  \n",
      " 12  unhappy                  14068 non-null  int32  \n",
      " 13  overachiever             14068 non-null  int32  \n",
      "dtypes: float64(5), int32(5), int64(2), object(2)\n",
      "memory usage: 1.3+ MB\n"
     ]
    }
   ],
   "source": [
    "df.info()"
   ]
  },
  {
   "cell_type": "code",
   "execution_count": 185,
   "metadata": {},
   "outputs": [
    {
     "data": {
      "text/html": [
       "<div>\n",
       "<style scoped>\n",
       "    .dataframe tbody tr th:only-of-type {\n",
       "        vertical-align: middle;\n",
       "    }\n",
       "\n",
       "    .dataframe tbody tr th {\n",
       "        vertical-align: top;\n",
       "    }\n",
       "\n",
       "    .dataframe thead th {\n",
       "        text-align: right;\n",
       "    }\n",
       "</style>\n",
       "<table border=\"1\" class=\"dataframe\">\n",
       "  <thead>\n",
       "    <tr style=\"text-align: right;\">\n",
       "      <th></th>\n",
       "      <th>avg_monthly_hrs</th>\n",
       "      <th>filed_complaint</th>\n",
       "      <th>last_evaluation</th>\n",
       "      <th>n_projects</th>\n",
       "      <th>recently_promoted</th>\n",
       "      <th>satisfaction</th>\n",
       "      <th>status</th>\n",
       "      <th>tenure</th>\n",
       "      <th>last_evaluation_missing</th>\n",
       "      <th>underperformer</th>\n",
       "      <th>unhappy</th>\n",
       "      <th>overachiever</th>\n",
       "      <th>department_IT</th>\n",
       "      <th>department_Missing</th>\n",
       "      <th>department_admin</th>\n",
       "      <th>department_engineering</th>\n",
       "      <th>department_finance</th>\n",
       "      <th>department_management</th>\n",
       "      <th>department_marketing</th>\n",
       "      <th>department_procurement</th>\n",
       "      <th>department_product</th>\n",
       "      <th>department_sales</th>\n",
       "      <th>department_support</th>\n",
       "      <th>salary_high</th>\n",
       "      <th>salary_low</th>\n",
       "      <th>salary_medium</th>\n",
       "    </tr>\n",
       "  </thead>\n",
       "  <tbody>\n",
       "    <tr>\n",
       "      <th>0</th>\n",
       "      <td>221</td>\n",
       "      <td>0.0</td>\n",
       "      <td>0.932868</td>\n",
       "      <td>4</td>\n",
       "      <td>0.0</td>\n",
       "      <td>0.829896</td>\n",
       "      <td>1</td>\n",
       "      <td>5.0</td>\n",
       "      <td>0</td>\n",
       "      <td>0</td>\n",
       "      <td>0</td>\n",
       "      <td>1</td>\n",
       "      <td>0.0</td>\n",
       "      <td>0.0</td>\n",
       "      <td>0.0</td>\n",
       "      <td>1.0</td>\n",
       "      <td>0.0</td>\n",
       "      <td>0.0</td>\n",
       "      <td>0.0</td>\n",
       "      <td>0.0</td>\n",
       "      <td>0.0</td>\n",
       "      <td>0.0</td>\n",
       "      <td>0.0</td>\n",
       "      <td>0.0</td>\n",
       "      <td>1.0</td>\n",
       "      <td>0.0</td>\n",
       "    </tr>\n",
       "    <tr>\n",
       "      <th>1</th>\n",
       "      <td>232</td>\n",
       "      <td>0.0</td>\n",
       "      <td>0.000000</td>\n",
       "      <td>3</td>\n",
       "      <td>0.0</td>\n",
       "      <td>0.834544</td>\n",
       "      <td>0</td>\n",
       "      <td>2.0</td>\n",
       "      <td>1</td>\n",
       "      <td>0</td>\n",
       "      <td>0</td>\n",
       "      <td>0</td>\n",
       "      <td>0.0</td>\n",
       "      <td>0.0</td>\n",
       "      <td>0.0</td>\n",
       "      <td>0.0</td>\n",
       "      <td>0.0</td>\n",
       "      <td>0.0</td>\n",
       "      <td>0.0</td>\n",
       "      <td>0.0</td>\n",
       "      <td>0.0</td>\n",
       "      <td>0.0</td>\n",
       "      <td>1.0</td>\n",
       "      <td>0.0</td>\n",
       "      <td>1.0</td>\n",
       "      <td>0.0</td>\n",
       "    </tr>\n",
       "    <tr>\n",
       "      <th>2</th>\n",
       "      <td>184</td>\n",
       "      <td>0.0</td>\n",
       "      <td>0.788830</td>\n",
       "      <td>3</td>\n",
       "      <td>0.0</td>\n",
       "      <td>0.834988</td>\n",
       "      <td>0</td>\n",
       "      <td>3.0</td>\n",
       "      <td>0</td>\n",
       "      <td>0</td>\n",
       "      <td>0</td>\n",
       "      <td>0</td>\n",
       "      <td>0.0</td>\n",
       "      <td>0.0</td>\n",
       "      <td>0.0</td>\n",
       "      <td>0.0</td>\n",
       "      <td>0.0</td>\n",
       "      <td>0.0</td>\n",
       "      <td>0.0</td>\n",
       "      <td>0.0</td>\n",
       "      <td>0.0</td>\n",
       "      <td>1.0</td>\n",
       "      <td>0.0</td>\n",
       "      <td>0.0</td>\n",
       "      <td>0.0</td>\n",
       "      <td>1.0</td>\n",
       "    </tr>\n",
       "    <tr>\n",
       "      <th>3</th>\n",
       "      <td>206</td>\n",
       "      <td>0.0</td>\n",
       "      <td>0.575688</td>\n",
       "      <td>4</td>\n",
       "      <td>0.0</td>\n",
       "      <td>0.424764</td>\n",
       "      <td>0</td>\n",
       "      <td>2.0</td>\n",
       "      <td>0</td>\n",
       "      <td>1</td>\n",
       "      <td>0</td>\n",
       "      <td>0</td>\n",
       "      <td>0.0</td>\n",
       "      <td>0.0</td>\n",
       "      <td>0.0</td>\n",
       "      <td>0.0</td>\n",
       "      <td>0.0</td>\n",
       "      <td>0.0</td>\n",
       "      <td>0.0</td>\n",
       "      <td>0.0</td>\n",
       "      <td>0.0</td>\n",
       "      <td>1.0</td>\n",
       "      <td>0.0</td>\n",
       "      <td>0.0</td>\n",
       "      <td>1.0</td>\n",
       "      <td>0.0</td>\n",
       "    </tr>\n",
       "    <tr>\n",
       "      <th>4</th>\n",
       "      <td>249</td>\n",
       "      <td>0.0</td>\n",
       "      <td>0.845217</td>\n",
       "      <td>3</td>\n",
       "      <td>0.0</td>\n",
       "      <td>0.779043</td>\n",
       "      <td>0</td>\n",
       "      <td>3.0</td>\n",
       "      <td>0</td>\n",
       "      <td>0</td>\n",
       "      <td>0</td>\n",
       "      <td>1</td>\n",
       "      <td>0.0</td>\n",
       "      <td>0.0</td>\n",
       "      <td>0.0</td>\n",
       "      <td>0.0</td>\n",
       "      <td>0.0</td>\n",
       "      <td>0.0</td>\n",
       "      <td>0.0</td>\n",
       "      <td>0.0</td>\n",
       "      <td>0.0</td>\n",
       "      <td>1.0</td>\n",
       "      <td>0.0</td>\n",
       "      <td>0.0</td>\n",
       "      <td>1.0</td>\n",
       "      <td>0.0</td>\n",
       "    </tr>\n",
       "    <tr>\n",
       "      <th>5</th>\n",
       "      <td>140</td>\n",
       "      <td>0.0</td>\n",
       "      <td>0.589097</td>\n",
       "      <td>4</td>\n",
       "      <td>0.0</td>\n",
       "      <td>0.660020</td>\n",
       "      <td>0</td>\n",
       "      <td>4.0</td>\n",
       "      <td>0</td>\n",
       "      <td>1</td>\n",
       "      <td>0</td>\n",
       "      <td>0</td>\n",
       "      <td>0.0</td>\n",
       "      <td>0.0</td>\n",
       "      <td>0.0</td>\n",
       "      <td>0.0</td>\n",
       "      <td>0.0</td>\n",
       "      <td>0.0</td>\n",
       "      <td>0.0</td>\n",
       "      <td>0.0</td>\n",
       "      <td>0.0</td>\n",
       "      <td>1.0</td>\n",
       "      <td>0.0</td>\n",
       "      <td>0.0</td>\n",
       "      <td>0.0</td>\n",
       "      <td>1.0</td>\n",
       "    </tr>\n",
       "    <tr>\n",
       "      <th>6</th>\n",
       "      <td>121</td>\n",
       "      <td>1.0</td>\n",
       "      <td>0.625399</td>\n",
       "      <td>3</td>\n",
       "      <td>0.0</td>\n",
       "      <td>0.835571</td>\n",
       "      <td>0</td>\n",
       "      <td>3.0</td>\n",
       "      <td>0</td>\n",
       "      <td>0</td>\n",
       "      <td>0</td>\n",
       "      <td>0</td>\n",
       "      <td>0.0</td>\n",
       "      <td>0.0</td>\n",
       "      <td>0.0</td>\n",
       "      <td>0.0</td>\n",
       "      <td>0.0</td>\n",
       "      <td>0.0</td>\n",
       "      <td>0.0</td>\n",
       "      <td>0.0</td>\n",
       "      <td>0.0</td>\n",
       "      <td>1.0</td>\n",
       "      <td>0.0</td>\n",
       "      <td>0.0</td>\n",
       "      <td>1.0</td>\n",
       "      <td>0.0</td>\n",
       "    </tr>\n",
       "    <tr>\n",
       "      <th>7</th>\n",
       "      <td>150</td>\n",
       "      <td>0.0</td>\n",
       "      <td>0.644586</td>\n",
       "      <td>4</td>\n",
       "      <td>0.0</td>\n",
       "      <td>0.796683</td>\n",
       "      <td>0</td>\n",
       "      <td>3.0</td>\n",
       "      <td>0</td>\n",
       "      <td>0</td>\n",
       "      <td>0</td>\n",
       "      <td>0</td>\n",
       "      <td>0.0</td>\n",
       "      <td>0.0</td>\n",
       "      <td>0.0</td>\n",
       "      <td>1.0</td>\n",
       "      <td>0.0</td>\n",
       "      <td>0.0</td>\n",
       "      <td>0.0</td>\n",
       "      <td>0.0</td>\n",
       "      <td>0.0</td>\n",
       "      <td>0.0</td>\n",
       "      <td>0.0</td>\n",
       "      <td>0.0</td>\n",
       "      <td>1.0</td>\n",
       "      <td>0.0</td>\n",
       "    </tr>\n",
       "    <tr>\n",
       "      <th>8</th>\n",
       "      <td>215</td>\n",
       "      <td>1.0</td>\n",
       "      <td>0.524114</td>\n",
       "      <td>3</td>\n",
       "      <td>0.0</td>\n",
       "      <td>0.715005</td>\n",
       "      <td>0</td>\n",
       "      <td>7.0</td>\n",
       "      <td>0</td>\n",
       "      <td>1</td>\n",
       "      <td>0</td>\n",
       "      <td>0</td>\n",
       "      <td>0.0</td>\n",
       "      <td>0.0</td>\n",
       "      <td>0.0</td>\n",
       "      <td>1.0</td>\n",
       "      <td>0.0</td>\n",
       "      <td>0.0</td>\n",
       "      <td>0.0</td>\n",
       "      <td>0.0</td>\n",
       "      <td>0.0</td>\n",
       "      <td>0.0</td>\n",
       "      <td>0.0</td>\n",
       "      <td>0.0</td>\n",
       "      <td>0.0</td>\n",
       "      <td>1.0</td>\n",
       "    </tr>\n",
       "    <tr>\n",
       "      <th>9</th>\n",
       "      <td>269</td>\n",
       "      <td>0.0</td>\n",
       "      <td>0.909364</td>\n",
       "      <td>5</td>\n",
       "      <td>0.0</td>\n",
       "      <td>0.994037</td>\n",
       "      <td>0</td>\n",
       "      <td>2.0</td>\n",
       "      <td>0</td>\n",
       "      <td>0</td>\n",
       "      <td>0</td>\n",
       "      <td>1</td>\n",
       "      <td>0.0</td>\n",
       "      <td>0.0</td>\n",
       "      <td>0.0</td>\n",
       "      <td>0.0</td>\n",
       "      <td>0.0</td>\n",
       "      <td>0.0</td>\n",
       "      <td>0.0</td>\n",
       "      <td>0.0</td>\n",
       "      <td>0.0</td>\n",
       "      <td>0.0</td>\n",
       "      <td>1.0</td>\n",
       "      <td>0.0</td>\n",
       "      <td>0.0</td>\n",
       "      <td>1.0</td>\n",
       "    </tr>\n",
       "  </tbody>\n",
       "</table>\n",
       "</div>"
      ],
      "text/plain": [
       "   avg_monthly_hrs  filed_complaint  last_evaluation  n_projects  \\\n",
       "0              221              0.0         0.932868           4   \n",
       "1              232              0.0         0.000000           3   \n",
       "2              184              0.0         0.788830           3   \n",
       "3              206              0.0         0.575688           4   \n",
       "4              249              0.0         0.845217           3   \n",
       "5              140              0.0         0.589097           4   \n",
       "6              121              1.0         0.625399           3   \n",
       "7              150              0.0         0.644586           4   \n",
       "8              215              1.0         0.524114           3   \n",
       "9              269              0.0         0.909364           5   \n",
       "\n",
       "   recently_promoted  satisfaction  status  tenure  last_evaluation_missing  \\\n",
       "0                0.0      0.829896       1     5.0                        0   \n",
       "1                0.0      0.834544       0     2.0                        1   \n",
       "2                0.0      0.834988       0     3.0                        0   \n",
       "3                0.0      0.424764       0     2.0                        0   \n",
       "4                0.0      0.779043       0     3.0                        0   \n",
       "5                0.0      0.660020       0     4.0                        0   \n",
       "6                0.0      0.835571       0     3.0                        0   \n",
       "7                0.0      0.796683       0     3.0                        0   \n",
       "8                0.0      0.715005       0     7.0                        0   \n",
       "9                0.0      0.994037       0     2.0                        0   \n",
       "\n",
       "   underperformer  unhappy  overachiever  department_IT  department_Missing  \\\n",
       "0               0        0             1            0.0                 0.0   \n",
       "1               0        0             0            0.0                 0.0   \n",
       "2               0        0             0            0.0                 0.0   \n",
       "3               1        0             0            0.0                 0.0   \n",
       "4               0        0             1            0.0                 0.0   \n",
       "5               1        0             0            0.0                 0.0   \n",
       "6               0        0             0            0.0                 0.0   \n",
       "7               0        0             0            0.0                 0.0   \n",
       "8               1        0             0            0.0                 0.0   \n",
       "9               0        0             1            0.0                 0.0   \n",
       "\n",
       "   department_admin  department_engineering  department_finance  \\\n",
       "0               0.0                     1.0                 0.0   \n",
       "1               0.0                     0.0                 0.0   \n",
       "2               0.0                     0.0                 0.0   \n",
       "3               0.0                     0.0                 0.0   \n",
       "4               0.0                     0.0                 0.0   \n",
       "5               0.0                     0.0                 0.0   \n",
       "6               0.0                     0.0                 0.0   \n",
       "7               0.0                     1.0                 0.0   \n",
       "8               0.0                     1.0                 0.0   \n",
       "9               0.0                     0.0                 0.0   \n",
       "\n",
       "   department_management  department_marketing  department_procurement  \\\n",
       "0                    0.0                   0.0                     0.0   \n",
       "1                    0.0                   0.0                     0.0   \n",
       "2                    0.0                   0.0                     0.0   \n",
       "3                    0.0                   0.0                     0.0   \n",
       "4                    0.0                   0.0                     0.0   \n",
       "5                    0.0                   0.0                     0.0   \n",
       "6                    0.0                   0.0                     0.0   \n",
       "7                    0.0                   0.0                     0.0   \n",
       "8                    0.0                   0.0                     0.0   \n",
       "9                    0.0                   0.0                     0.0   \n",
       "\n",
       "   department_product  department_sales  department_support  salary_high  \\\n",
       "0                 0.0               0.0                 0.0          0.0   \n",
       "1                 0.0               0.0                 1.0          0.0   \n",
       "2                 0.0               1.0                 0.0          0.0   \n",
       "3                 0.0               1.0                 0.0          0.0   \n",
       "4                 0.0               1.0                 0.0          0.0   \n",
       "5                 0.0               1.0                 0.0          0.0   \n",
       "6                 0.0               1.0                 0.0          0.0   \n",
       "7                 0.0               0.0                 0.0          0.0   \n",
       "8                 0.0               0.0                 0.0          0.0   \n",
       "9                 0.0               0.0                 1.0          0.0   \n",
       "\n",
       "   salary_low  salary_medium  \n",
       "0         1.0            0.0  \n",
       "1         1.0            0.0  \n",
       "2         0.0            1.0  \n",
       "3         1.0            0.0  \n",
       "4         1.0            0.0  \n",
       "5         0.0            1.0  \n",
       "6         1.0            0.0  \n",
       "7         1.0            0.0  \n",
       "8         0.0            1.0  \n",
       "9         0.0            1.0  "
      ]
     },
     "execution_count": 185,
     "metadata": {},
     "output_type": "execute_result"
    }
   ],
   "source": [
    "df=pd.get_dummies(df, columns=['department','salary'],dtype=float)\n",
    "df.head(10)"
   ]
  },
  {
   "cell_type": "markdown",
   "metadata": {},
   "source": [
    "Finally, it doesn't look like we have any **unused or redundant features** in our augmented dataframe. Let's save this augmented dataframe.\n",
    "\n",
    "#### D.) Save this dataframe as your <span style=\"color:royalblue\">analytical base table</span> to use in later modules.\n",
    "* Remember to set the argument <code style=\"color:steelblue\">index=None</code> to save only the data."
   ]
  },
  {
   "cell_type": "code",
   "execution_count": 187,
   "metadata": {},
   "outputs": [],
   "source": [
    "df.to_csv('analytical base table.csv',index=None)"
   ]
  },
  {
   "cell_type": "markdown",
   "metadata": {},
   "source": [
    "\n",
    "* You cleaned dropped irrelevant observations from the dataset.\n",
    "* You fixed various structural errors, such as wannabe indicator variables.\n",
    "* You handled missing data.\n",
    "* You engineered features by leveraging your exploratory analysis.\n",
    "* And you created dummy variables before saving the ABT.\n",
    "\n"
   ]
  },
  {
   "cell_type": "code",
   "execution_count": null,
   "metadata": {},
   "outputs": [],
   "source": []
  }
 ],
 "metadata": {
  "anaconda-cloud": {},
  "kernelspec": {
   "display_name": "Python 3 (ipykernel)",
   "language": "python",
   "name": "python3"
  },
  "language_info": {
   "codemirror_mode": {
    "name": "ipython",
    "version": 3
   },
   "file_extension": ".py",
   "mimetype": "text/x-python",
   "name": "python",
   "nbconvert_exporter": "python",
   "pygments_lexer": "ipython3",
   "version": "3.12.4"
  }
 },
 "nbformat": 4,
 "nbformat_minor": 4
}
